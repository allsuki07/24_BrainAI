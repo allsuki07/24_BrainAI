{
 "cells": [
  {
   "cell_type": "code",
   "execution_count": 1,
   "id": "ae8d7bd5-b257-4aaa-a10f-d63f34886f2d",
   "metadata": {},
   "outputs": [],
   "source": [
    "import cv2\n",
    "import numpy as np\n",
    "import openvino as ov"
   ]
  },
  {
   "cell_type": "markdown",
   "id": "bf19fa70-d986-40f6-96af-4bccf1c6f3bd",
   "metadata": {},
   "source": [
    "# 웹캠"
   ]
  },
  {
   "cell_type": "code",
   "execution_count": 2,
   "id": "2e7705c9-4b79-41fc-aee9-8c7fa4ab756b",
   "metadata": {},
   "outputs": [],
   "source": [
    "def Main():\n",
    "    camera = cv2. VideoCapture(source)\n",
    "\n",
    "    while(True):\n",
    "\n",
    "        ret, frame = camera.read()\n",
    "\n",
    "        if not ret:\n",
    "            break\n",
    "\n",
    "        cv2.imshow(\"Webcam\", frame)\n",
    "\n",
    "        if cv2.waitKey(1) & 0xFF == ord('q'):\n",
    "            break\n",
    "\n",
    "    camera.release();\n",
    "    cv2.destroyAllWindows()"
   ]
  },
  {
   "cell_type": "code",
   "execution_count": 3,
   "id": "0ec95894-adcd-40e3-8230-ef033f2c75fd",
   "metadata": {},
   "outputs": [],
   "source": [
    "source = \"data/wo.mp4\"\n",
    "\n",
    "if __name__ == '__main__':\n",
    "    Main()"
   ]
  },
  {
   "cell_type": "markdown",
   "id": "d315c402-0a24-4ff8-b9e1-14a112294192",
   "metadata": {},
   "source": [
    "# Face Detecion with Webcam"
   ]
  },
  {
   "cell_type": "markdown",
   "id": "55e2b223-d9cf-45a4-9b21-900f3822f599",
   "metadata": {},
   "source": [
    "### Load Model"
   ]
  },
  {
   "cell_type": "code",
   "execution_count": 4,
   "id": "5c66bc99-cad2-432d-b0eb-9adcde15c9b3",
   "metadata": {},
   "outputs": [
    {
     "name": "stdout",
     "output_type": "stream",
     "text": [
      "Input shape: [1,3,384,672]\n",
      "Output shape: [1,1,200,7]\n",
      "Input shape: [1,3,64,64]\n",
      "Output shape: [1,5,1,1]\n",
      "Input shape: [1,3,62,62]\n",
      "Output shape: [1,2,1,1]\n"
     ]
    }
   ],
   "source": [
    "core = ov.Core()\n",
    "\n",
    "model_face = core.read_model(model='models/face-detection-adas-0001.xml')\n",
    "compiled_model_face = core.compile_model(model = model_face, device_name=\"CPU\")\n",
    "\n",
    "input_layer_face = compiled_model_face.input(0)\n",
    "output_layer_face = compiled_model_face.output(0)\n",
    "\n",
    "print(\"Input shape:\", input_layer_face.shape)\n",
    "print(\"Output shape:\", output_layer_face.shape)\n",
    "\n",
    "# emotion model\n",
    "model_emo = core.read_model(model='models/emotions-recognition-retail-0003.xml')\n",
    "compiled_model_emo = core.compile_model(model = model_emo, device_name=\"CPU\")\n",
    "\n",
    "input_layer_emo = compiled_model_emo.input(0)\n",
    "output_layer_emo = compiled_model_emo.output(0)\n",
    "\n",
    "print(f\"Input shape: {input_layer_emo.shape}\")\n",
    "print(f\"Output shape: {output_layer_emo.shape}\")\n",
    "\n",
    "model_ag = core.read_model(model='models/age-gender-recognition-retail-0013.xml')\n",
    "compiled_model_ag = core.compile_model(model = model_ag, device_name=\"CPU\")\n",
    "\n",
    "input_layer_ag = compiled_model_ag.input(0)\n",
    "output_layer_ag = compiled_model_ag.output(0)\n",
    "\n",
    "print(\"Input shape:\", input_layer_ag.shape)\n",
    "print(\"Output shape:\", output_layer_ag.shape)"
   ]
  },
  {
   "cell_type": "markdown",
   "id": "bfc43c49-3b30-4363-b38b-4afdd67caebb",
   "metadata": {},
   "source": [
    "### Pre-Process New Input Data"
   ]
  },
  {
   "cell_type": "code",
   "execution_count": 5,
   "id": "3db38b75-3833-49e1-92ea-aa531022dc81",
   "metadata": {},
   "outputs": [],
   "source": [
    "def preprocess(frame, input_layer):\n",
    "    N, input_channels, input_height, input_width = input_layer.shape\n",
    "\n",
    "    resized_frame = cv2.resize(frame, (input_width, input_height))\n",
    "    transposed_frame = resized_frame.transpose(2, 0, 1)\n",
    "    input_frame = np. expand_dims(transposed_frame, 0)\n",
    "\n",
    "    return input_frame"
   ]
  },
  {
   "cell_type": "markdown",
   "id": "95ad8a8f-6b8c-4a31-9832-eefbae5ff358",
   "metadata": {},
   "source": [
    "# Postprocess the results"
   ]
  },
  {
   "cell_type": "markdown",
   "id": "0a513f4b-deac-4407-afaf-60b62793b6c7",
   "metadata": {},
   "source": [
    "### Find the Face Boxes"
   ]
  },
  {
   "cell_type": "code",
   "execution_count": 6,
   "id": "beb2b3ca-ef7d-442b-8096-16f56fee9ed9",
   "metadata": {},
   "outputs": [],
   "source": [
    "def find_faceboxes(frame, results, confidence_threshold):\n",
    "    results = results.squeeze()\n",
    "\n",
    "    scores = results[:,2]\n",
    "    boxes = results[:, -4:]\n",
    "\n",
    "    face_boxes = boxes[scores >= confidence_threshold]\n",
    "    scores = scores[scores >= confidence_threshold]\n",
    "    \n",
    "    frame_h, frame_w, frame_channels = frame.shape\n",
    "    face_boxes = face_boxes*np.array([frame_w, frame_h, frame_w, frame_h])\n",
    "    face_boxes = face_boxes.astype(np.int64)\n",
    "\n",
    "    return face_boxes, scores"
   ]
  },
  {
   "cell_type": "markdown",
   "id": "19eaaa3e-8a96-4ddb-8430-17514e779f5e",
   "metadata": {},
   "source": [
    "### Draw the Emocion/Age/Gender"
   ]
  },
  {
   "cell_type": "code",
   "execution_count": 7,
   "id": "abcce566-d861-4b82-8882-8e3a3a5c5540",
   "metadata": {},
   "outputs": [],
   "source": [
    "def draw_age_gender_emocion(face_boxes, frame) :\n",
    "    \n",
    "    EMOTION_NAMES = ['neutral', 'happy', 'sad', 'surprise', 'anger']\n",
    "    show_frame = frame.copy()\n",
    "    \n",
    "    for i in range(len(face_boxes)):\n",
    "\n",
    "        xmin, ymin, xmax, ymax = face_boxes[i]\n",
    "        face = frame[ymin : ymax, xmin : xmax]\n",
    "        # --- emotion ---\n",
    "        input_frame = preprocess(face, input_layer_emo)\n",
    "        results_emo = compiled_model_emo([input_frame])[output_layer_emo]\n",
    "\n",
    "        results_emo = results_emo.squeeze()\n",
    "        index = np.argmax(results_emo)\n",
    "\n",
    "        \n",
    "        # --- emotion ---\n",
    "\n",
    "        # --- age and gender ---\n",
    "        input_frame_ag = preprocess(face, input_layer_ag)\n",
    "        results_ag = compiled_model_ag([input_frame_ag])\n",
    "        age, gender = results_ag[1], results_ag[0]\n",
    "        age = np.squeeze(age)\n",
    "        age = int(age*100)\n",
    "\n",
    "        gender = np.squeeze(gender)\n",
    "\n",
    "        if (gender[0]>=0.65):\n",
    "            gender = \"female\"\n",
    "            box_color = (200, 200, 0)\n",
    "        \n",
    "        elif (gender[1]>=0.55):\n",
    "            gender = 'male'\n",
    "            box_color = (0, 200, 200)\n",
    "\n",
    "        else:\n",
    "            gender = \"unknown\"\n",
    "            box_color = (200, 200, 200)\n",
    "        \n",
    "        # --- age and gender ---\n",
    "\n",
    "        fontScale = frame.shape[1]/750\n",
    "\n",
    "        text = gender + ' ' + str(age) + ' ' + EMOTION_NAMES[index]\n",
    "        cv2.putText(show_frame, text, (xmin, ymin), cv2.FONT_HERSHEY_SIMPLEX, fontScale, (0, 200, 0),3)\n",
    "        cv2.rectangle(img = show_frame, pt1 = (xmin, ymin), pt2 = (xmax, ymax), color = box_color, thickness = 2)\n",
    "\n",
    "    return show_frame"
   ]
  },
  {
   "cell_type": "markdown",
   "id": "ac328df2-445a-45ce-a1fe-a8340a90898f",
   "metadata": {},
   "source": [
    "# Run Inference"
   ]
  },
  {
   "cell_type": "code",
   "execution_count": 8,
   "id": "a180eec6-e5fd-4176-95f5-c959306a600e",
   "metadata": {},
   "outputs": [],
   "source": [
    "def Main():\n",
    "    camera = cv2. VideoCapture(source)\n",
    "\n",
    "    while(True):\n",
    "\n",
    "        ret, frame = camera.read()\n",
    "\n",
    "        if not ret:\n",
    "            break\n",
    "\n",
    "        input_frame = preprocess(frame, input_layer_face)\n",
    "        results = compiled_model_face([input_frame])[output_layer_face]\n",
    "\n",
    "        \n",
    "        face_boxes, scores = find_faceboxes(frame, results, confidence_threshold)\n",
    "        show_frame = draw_age_gender_emocion(face_boxes, frame)\n",
    "\n",
    "        cv2.imshow(\"Webcam\", show_frame)\n",
    "\n",
    "        if cv2.waitKey(1) & 0xFF == ord('q'):\n",
    "            break\n",
    "\n",
    "    camera.release()\n",
    "    cv2.destroyAllWindows()"
   ]
  },
  {
   "cell_type": "code",
   "execution_count": 9,
   "id": "1c640ed2-474a-4eea-956b-a37d5c628331",
   "metadata": {},
   "outputs": [],
   "source": [
    "confidence_threshold = .95\n",
    "source = \"data/wo.mp4\"\n",
    "\n",
    "if __name__ == '__main__':\n",
    "    Main()"
   ]
  },
  {
   "cell_type": "code",
   "execution_count": null,
   "id": "91c318bd-c1a4-4dea-a875-f9b9097554ea",
   "metadata": {},
   "outputs": [],
   "source": []
  }
 ],
 "metadata": {
  "kernelspec": {
   "display_name": "Python 3 (ipykernel)",
   "language": "python",
   "name": "python3"
  },
  "language_info": {
   "codemirror_mode": {
    "name": "ipython",
    "version": 3
   },
   "file_extension": ".py",
   "mimetype": "text/x-python",
   "name": "python",
   "nbconvert_exporter": "python",
   "pygments_lexer": "ipython3",
   "version": "3.11.8"
  }
 },
 "nbformat": 4,
 "nbformat_minor": 5
}
