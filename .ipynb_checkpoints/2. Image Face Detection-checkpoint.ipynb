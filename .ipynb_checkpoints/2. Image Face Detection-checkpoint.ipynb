{
 "cells": [
  {
   "cell_type": "markdown",
   "id": "45241225-6357-420a-a2e7-2a9378db5e82",
   "metadata": {},
   "source": [
    "# Load Model"
   ]
  },
  {
   "cell_type": "code",
   "execution_count": 1,
   "id": "1e5e9bcf-565e-4bff-ab49-d6b54dcdfce9",
   "metadata": {},
   "outputs": [
    {
     "name": "stdout",
     "output_type": "stream",
     "text": [
      "Input shape: [1,3,384,672]\n",
      "Output shape: [1,1,200,7]\n"
     ]
    }
   ],
   "source": [
    "import openvino as ov\n",
    "\n",
    "core = ov.Core()\n",
    "\n",
    "model = core.read_model(model='models/face-detection-adas-0001.xml')\n",
    "compiled_model = core.compile_model(model = model, device_name=\"CPU\")\n",
    "\n",
    "input_layer = compiled_model.input(0)\n",
    "output_layer = compiled_model.output(0)\n",
    "\n",
    "print(f\"Input shape: {input_layer.shape}\")\n",
    "print(f\"Output shape: {output_layer.shape}\")"
   ]
  },
  {
   "cell_type": "markdown",
   "id": "67713c4e-07ff-4d9a-9e47-11303b834e31",
   "metadata": {},
   "source": [
    "# Preprocess New Inout Data"
   ]
  },
  {
   "cell_type": "markdown",
   "id": "60852b5f-cedf-4758-9348-37aaf9c9b238",
   "metadata": {},
   "source": [
    "### call Image"
   ]
  },
  {
   "cell_type": "code",
   "execution_count": null,
   "id": "f77aaa90-894a-40cf-b184-da28e1fc5c7d",
   "metadata": {},
   "outputs": [
    {
     "name": "stdout",
     "output_type": "stream",
     "text": [
      "(3888, 2592, 3)\n",
      "(777, 518, 3)\n"
     ]
    }
   ],
   "source": [
    "import cv2\n",
    "import matplotlib.pyplot as plt\n",
    "\n",
    "image = cv2.imread(\"data/people.jpg\")\n",
    "print(image.shape)\n",
    "#plt.imshow(cv2.cvtColor(image, cv2.COLOR_BGR2RGB))\n",
    "\n",
    "image_height, image_width, image_channels = image.shape\n",
    "image = cv2.resize(image, (int(image_width/5), int(image_height/5)))\n",
    "print(image.shape)\n",
    "\n",
    "cv2.imshow(\"Image\", image)\n",
    "cv2.waitKey()\n",
    "cv2.destroyAllWindows()"
   ]
  },
  {
   "cell_type": "markdown",
   "id": "c48a6254-3505-4ecd-b834-55b6ef2a390b",
   "metadata": {},
   "source": [
    "# Preprocess Data"
   ]
  },
  {
   "cell_type": "code",
   "execution_count": null,
   "id": "615810b6-8c0a-417d-85f9-a0d6aece9429",
   "metadata": {},
   "outputs": [],
   "source": [
    "import numpy as np\n",
    "\n",
    "def preprocess(image):\n",
    "    N, input_channels, input_height, input_width = input_layer.shape\n",
    "\n",
    "    resized_image = cv2.resize(image, (input_width, input_height))\n",
    "    transposed_image = resized_image.transpose(2, 0, 1)\n",
    "    input_image = np. expand_dims(transposed_image, 0)\n",
    "\n",
    "    return input_image"
   ]
  },
  {
   "cell_type": "code",
   "execution_count": null,
   "id": "c892dd2e-ce55-4568-9a80-c00e6e798b14",
   "metadata": {},
   "outputs": [],
   "source": [
    "input_image = preprocess(image)\n",
    "\n",
    "print(image.shape)\n",
    "print(input_image.shape)"
   ]
  },
  {
   "cell_type": "markdown",
   "id": "c25d61cf-5c0c-4139-b633-a863ac3b0d22",
   "metadata": {},
   "source": [
    "# Run Inference"
   ]
  },
  {
   "cell_type": "code",
   "execution_count": null,
   "id": "ff5c45b1-ecb5-4979-a3a6-98f9ff583178",
   "metadata": {},
   "outputs": [],
   "source": [
    "results = compiled_model([input_image])[output_layer]"
   ]
  },
  {
   "cell_type": "code",
   "execution_count": null,
   "id": "9ca435f8-54df-4bee-a086-c025323924cc",
   "metadata": {},
   "outputs": [],
   "source": [
    "print(results.shape)"
   ]
  },
  {
   "cell_type": "code",
   "execution_count": null,
   "id": "ab4eaefb-9174-4273-b419-4bc43613605e",
   "metadata": {},
   "outputs": [],
   "source": [
    "print(results[0][0][-2])"
   ]
  },
  {
   "cell_type": "markdown",
   "id": "91cafb11-9d5f-491a-a33a-a1b1177f6b78",
   "metadata": {},
   "source": [
    "# Postprocess"
   ]
  },
  {
   "cell_type": "code",
   "execution_count": null,
   "id": "2e27352f-132d-4e4b-a477-4998d204fc14",
   "metadata": {},
   "outputs": [],
   "source": [
    "def find_faceboxes(image, results, confidence_threshold):\n",
    "    results = results.squeeze()\n",
    "\n",
    "    scores = results[:,2]\n",
    "    boxes = results[:, -4:]\n",
    "\n",
    "    face_boxes = boxes[scores >= confidence_threshold]\n",
    "    scores = scores[scores >= confidence_threshold]\n",
    "    \n",
    "    image_h, image_w, image_channels = image.shape\n",
    "    face_boxes = face_boxes*np.array([image_w, image_h, image_w, image_h])\n",
    "    face_boxes = face_boxes.astype(np.int64)\n",
    "\n",
    "    return face_boxes, scores"
   ]
  },
  {
   "cell_type": "code",
   "execution_count": null,
   "id": "e1821f04-6192-4ebe-baca-ceb9434a3121",
   "metadata": {},
   "outputs": [],
   "source": [
    "confidence_threshold = .02\n",
    "face_boxes, scores = find_faceboxes(image, results, confidence_threshold)\n",
    "print(face_boxes)"
   ]
  },
  {
   "cell_type": "code",
   "execution_count": null,
   "id": "15f4eea9-1d51-478e-9829-f58e463ca57f",
   "metadata": {},
   "outputs": [],
   "source": [
    "print(scores)"
   ]
  },
  {
   "cell_type": "code",
   "execution_count": null,
   "id": "eeeb3657-c102-458f-bf59-3fdfceb5d4a9",
   "metadata": {},
   "outputs": [],
   "source": [
    "for i in range(len(face_boxes)):\n",
    "    print(face_boxes[i])\n",
    "    print(scores[i])"
   ]
  },
  {
   "cell_type": "code",
   "execution_count": null,
   "id": "99f9e038-9431-4971-8129-a9184f419576",
   "metadata": {},
   "outputs": [],
   "source": [
    "print(len(face_boxes))"
   ]
  },
  {
   "cell_type": "code",
   "execution_count": null,
   "id": "50235502-6c46-4b5a-a969-a927cd8e362c",
   "metadata": {},
   "outputs": [],
   "source": [
    "def draw_faceboxes(image, face_boxes, scores):\n",
    "\n",
    "    show_image = image.copy()\n",
    "\n",
    "    for i in range(len(face_boxes)):\n",
    "\n",
    "        xmin, ymin, xmax, ymax = face_boxes[i]\n",
    "        cv2.rectangle(img = show_image, pt1 = (xmin, ymin), pt2 = (xmax, ymax), color = (0,200, 0), thickness = 2)\n",
    "\n",
    "    return show_image"
   ]
  },
  {
   "cell_type": "code",
   "execution_count": null,
   "id": "aad2fc80-e139-412a-8823-d6431d09228d",
   "metadata": {},
   "outputs": [],
   "source": [
    "show_image = draw_faceboxes(image, face_boxes, scores)\n",
    "\n",
    "plt.imshow(cv2.cvtColor(show_image, cv2.COLOR_BGR2RGB))"
   ]
  },
  {
   "cell_type": "code",
   "execution_count": null,
   "id": "626089ef-63e0-4712-9185-e21a73a7d2ef",
   "metadata": {},
   "outputs": [],
   "source": [
    "cv2.imshow(\"Image\", show_image)\n",
    "cv2.waitKey()\n",
    "cv2.destroyAllWindows()"
   ]
  },
  {
   "cell_type": "code",
   "execution_count": null,
   "id": "7f1580ca-3582-45bd-9b5c-44dbf88ec2c0",
   "metadata": {},
   "outputs": [],
   "source": [
    "import cv2\n",
    "import matplotlib.pyplot as plt\n",
    "\n",
    "image = cv2.imread(\"data/ps.jpg\")\n",
    "print(image.shape)\n",
    "plt.imshow(cv2.cvtColor(image, cv2.COLOR_BGR2RGB))"
   ]
  },
  {
   "cell_type": "code",
   "execution_count": null,
   "id": "ae7353bf-85bb-46b3-8dd1-ff92544be57c",
   "metadata": {},
   "outputs": [],
   "source": [
    "cv2.imshow(\"Face Detection\", show_image)\n",
    "cv2.waitKey()\n",
    "cv2.destroyAllWindows()"
   ]
  },
  {
   "cell_type": "code",
   "execution_count": null,
   "id": "7ce080bb-43f3-40aa-ba4a-369165a4e877",
   "metadata": {},
   "outputs": [],
   "source": []
  }
 ],
 "metadata": {
  "kernelspec": {
   "display_name": "Python 3 (ipykernel)",
   "language": "python",
   "name": "python3"
  },
  "language_info": {
   "codemirror_mode": {
    "name": "ipython",
    "version": 3
   },
   "file_extension": ".py",
   "mimetype": "text/x-python",
   "name": "python",
   "nbconvert_exporter": "python",
   "pygments_lexer": "ipython3",
   "version": "3.11.8"
  }
 },
 "nbformat": 4,
 "nbformat_minor": 5
}
